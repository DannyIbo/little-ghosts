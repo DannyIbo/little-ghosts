{
 "cells": [
  {
   "cell_type": "code",
   "execution_count": 104,
   "metadata": {},
   "outputs": [],
   "source": [
    "import numpy as np\n",
    "import pandas as pd\n",
    "import matplotlib.pyplot as plt"
   ]
  },
  {
   "cell_type": "code",
   "execution_count": 2,
   "metadata": {},
   "outputs": [
    {
     "data": {
      "text/plain": [
       "0.30000000000000004"
      ]
     },
     "execution_count": 2,
     "metadata": {},
     "output_type": "execute_result"
    }
   ],
   "source": [
    "0.1 + 0.2"
   ]
  },
  {
   "cell_type": "markdown",
   "metadata": {},
   "source": [
    "# 9.7.1. Creating NumPy Arrays"
   ]
  },
  {
   "cell_type": "code",
   "execution_count": 4,
   "metadata": {},
   "outputs": [
    {
     "data": {
      "text/plain": [
       "['d', 'a', 'n', 'n', 'y', ' ', 'i', 'b', 'o', 'v', 'n', 'i', 'k']"
      ]
     },
     "execution_count": 4,
     "metadata": {},
     "output_type": "execute_result"
    }
   ],
   "source": [
    "list_like_object = list('danny ibovnik')\n",
    "list_like_object"
   ]
  },
  {
   "cell_type": "code",
   "execution_count": 8,
   "metadata": {},
   "outputs": [
    {
     "data": {
      "text/plain": [
       "array(['d', 'a', 'n', 'n', 'y', ' ', 'i', 'b', 'o', 'v', 'n', 'i', 'k'],\n",
       "      dtype='<U1')"
      ]
     },
     "execution_count": 8,
     "metadata": {},
     "output_type": "execute_result"
    }
   ],
   "source": [
    "np.array(list_like_object)"
   ]
  },
  {
   "cell_type": "code",
   "execution_count": 11,
   "metadata": {},
   "outputs": [
    {
     "data": {
      "text/plain": [
       "array([2, 4, 6, 8])"
      ]
     },
     "execution_count": 11,
     "metadata": {},
     "output_type": "execute_result"
    }
   ],
   "source": [
    "np.arange(2,10,2)"
   ]
  },
  {
   "cell_type": "code",
   "execution_count": 29,
   "metadata": {},
   "outputs": [
    {
     "data": {
      "text/plain": [
       "array([ 0.,  1.,  2.,  3.,  4.,  5.,  6.,  7.,  8.,  9., 10.])"
      ]
     },
     "execution_count": 29,
     "metadata": {},
     "output_type": "execute_result"
    }
   ],
   "source": [
    "np.linspace(0, 10, num=11, axis=0)"
   ]
  },
  {
   "cell_type": "code",
   "execution_count": 81,
   "metadata": {},
   "outputs": [
    {
     "ename": "NameError",
     "evalue": "name 'nx' is not defined",
     "output_type": "error",
     "traceback": [
      "\u001b[1;31m---------------------------------------------------------------------------\u001b[0m",
      "\u001b[1;31mNameError\u001b[0m                                 Traceback (most recent call last)",
      "\u001b[1;32m<ipython-input-81-1e4c38a6af6d>\u001b[0m in \u001b[0;36m<module>\u001b[1;34m\u001b[0m\n\u001b[1;32m----> 1\u001b[1;33m \u001b[0mnp\u001b[0m\u001b[1;33m.\u001b[0m\u001b[0mlinspace\u001b[0m\u001b[1;33m(\u001b[0m\u001b[1;36m0\u001b[0m\u001b[1;33m,\u001b[0m \u001b[1;36m10\u001b[0m\u001b[1;33m,\u001b[0m \u001b[0mnx\u001b[0m\u001b[1;33m)\u001b[0m\u001b[1;33m\u001b[0m\u001b[1;33m\u001b[0m\u001b[0m\n\u001b[0m",
      "\u001b[1;31mNameError\u001b[0m: name 'nx' is not defined"
     ]
    }
   ],
   "source": [
    "np.linspace(0, 10, nx)"
   ]
  },
  {
   "cell_type": "code",
   "execution_count": 28,
   "metadata": {},
   "outputs": [
    {
     "data": {
      "text/plain": [
       "array([ 0.,  1.,  2.,  3.,  4.,  5.,  6.,  7.,  8.,  9., 10.])"
      ]
     },
     "execution_count": 28,
     "metadata": {},
     "output_type": "execute_result"
    }
   ],
   "source": [
    "np.linspace(0, 11, num=11, axis=0, endpoint=False)"
   ]
  },
  {
   "cell_type": "code",
   "execution_count": 36,
   "metadata": {},
   "outputs": [
    {
     "data": {
      "text/plain": [
       "(array([ 0.  ,  0.25,  0.5 ,  0.75,  1.  ,  1.25,  1.5 ,  1.75,  2.  ,\n",
       "         2.25,  2.5 ,  2.75,  3.  ,  3.25,  3.5 ,  3.75,  4.  ,  4.25,\n",
       "         4.5 ,  4.75,  5.  ,  5.25,  5.5 ,  5.75,  6.  ,  6.25,  6.5 ,\n",
       "         6.75,  7.  ,  7.25,  7.5 ,  7.75,  8.  ,  8.25,  8.5 ,  8.75,\n",
       "         9.  ,  9.25,  9.5 ,  9.75, 10.  ]), 0.25)"
      ]
     },
     "execution_count": 36,
     "metadata": {},
     "output_type": "execute_result"
    }
   ],
   "source": [
    "np.linspace(0, 10, num=41, axis=0, retstep=True)"
   ]
  },
  {
   "cell_type": "markdown",
   "metadata": {},
   "source": [
    "### meshgrid"
   ]
  },
  {
   "cell_type": "code",
   "execution_count": 80,
   "metadata": {},
   "outputs": [
    {
     "data": {
      "text/plain": [
       "[array([], shape=(0, 8), dtype=int32), array([], shape=(0, 8), dtype=int32)]"
      ]
     },
     "execution_count": 80,
     "metadata": {},
     "output_type": "execute_result"
    }
   ],
   "source": [
    "np.meshgrid(np.arange(8), np.arange(4,2,44))"
   ]
  },
  {
   "cell_type": "code",
   "execution_count": 87,
   "metadata": {},
   "outputs": [
    {
     "data": {
      "text/plain": [
       "array([[0. , 0.5, 1. ],\n",
       "       [0. , 0.5, 1. ]])"
      ]
     },
     "execution_count": 87,
     "metadata": {},
     "output_type": "execute_result"
    }
   ],
   "source": [
    "nx, ny = (3, 2)\n",
    "nx\n",
    "x = np.linspace(0, 1, nx)\n",
    "x\n",
    "y = np.linspace(0, 1, ny)\n",
    "y\n",
    "xv, yv = np.meshgrid(x, y)\n",
    "xv\n",
    "# array([[0. , 0.5, 1. ],\n",
    "#        [0. , 0.5, 1. ]])\n",
    "# yv\n",
    "# array([[0.,  0.,  0.],\n",
    "# [1.,  1.,  1.]])\n",
    "#  xv, yv = np.meshgrid(x, y, sparse=True)  # make sparse output arrays\n",
    "# >>> xv\n",
    "# array([[0. ,  0.5,  1. ]])\n",
    "# >>> yv\n",
    "# array([[0.],\n",
    "#        [1.]])"
   ]
  },
  {
   "cell_type": "markdown",
   "metadata": {},
   "source": [
    "### Create a two-dimensional vector"
   ]
  },
  {
   "cell_type": "code",
   "execution_count": 89,
   "metadata": {},
   "outputs": [
    {
     "data": {
      "text/plain": [
       "array([[0, 0, 0, 0, 0],\n",
       "       [0, 0, 0, 0, 0],\n",
       "       [0, 0, 0, 0, 0]])"
      ]
     },
     "execution_count": 89,
     "metadata": {},
     "output_type": "execute_result"
    }
   ],
   "source": [
    "np.zeros((3, 5), dtype='int')"
   ]
  },
  {
   "cell_type": "markdown",
   "metadata": {},
   "source": [
    "### Create an identity matrix"
   ]
  },
  {
   "cell_type": "code",
   "execution_count": 91,
   "metadata": {},
   "outputs": [
    {
     "data": {
      "text/plain": [
       "array([[1., 0., 0., 0.],\n",
       "       [0., 1., 0., 0.],\n",
       "       [0., 0., 1., 0.],\n",
       "       [0., 0., 0., 1.]])"
      ]
     },
     "execution_count": 91,
     "metadata": {},
     "output_type": "execute_result"
    }
   ],
   "source": [
    "np.eye(4)"
   ]
  },
  {
   "cell_type": "markdown",
   "metadata": {},
   "source": [
    "### Create random arrays"
   ]
  },
  {
   "cell_type": "code",
   "execution_count": 112,
   "metadata": {},
   "outputs": [
    {
     "data": {
      "text/plain": [
       "array([0.33956953, 0.03931416, 0.26203109, 0.82771869, 0.39625481,\n",
       "       0.96438364, 0.86704942])"
      ]
     },
     "execution_count": 112,
     "metadata": {},
     "output_type": "execute_result"
    }
   ],
   "source": [
    "np.random.random(7)"
   ]
  },
  {
   "cell_type": "code",
   "execution_count": 116,
   "metadata": {},
   "outputs": [
    {
     "data": {
      "text/plain": [
       "(array([  4.,   4.,   9.,  28.,  39.,  56.,  75.,  79., 135., 114., 117.,\n",
       "         86.,  97.,  64.,  39.,  26.,  14.,   5.,   6.,   3.]),\n",
       " array([-5.79300134, -5.19254722, -4.59209309, -3.99163897, -3.39118485,\n",
       "        -2.79073072, -2.1902766 , -1.58982248, -0.98936835, -0.38891423,\n",
       "         0.21153989,  0.81199402,  1.41244814,  2.01290227,  2.61335639,\n",
       "         3.21381051,  3.81426464,  4.41471876,  5.01517288,  5.61562701,\n",
       "         6.21608113]),\n",
       " <a list of 20 Patch objects>)"
      ]
     },
     "execution_count": 116,
     "metadata": {},
     "output_type": "execute_result"
    },
    {
     "data": {
      "image/png": "[encoded data removed]",
      "text/plain": [
       "<Figure size 432x288 with 1 Axes>"
      ]
     },
     "metadata": {
      "needs_background": "light"
     },
     "output_type": "display_data"
    }
   ],
   "source": [
    "x = np.random.normal(0.0, 2, 1000)\n",
    "plt.hist(x, bins=20)"
   ]
  },
  {
   "cell_type": "code",
   "execution_count": 95,
   "metadata": {},
   "outputs": [],
   "source": [
    "from imageio import imread\n",
    "from PIL import Image\n",
    "import numpy as np"
   ]
  },
  {
   "cell_type": "code",
   "execution_count": 65,
   "metadata": {},
   "outputs": [],
   "source": [
    "a = imread('pixil-frame-1.png')"
   ]
  },
  {
   "cell_type": "code",
   "execution_count": 66,
   "metadata": {},
   "outputs": [
    {
     "data": {
      "text/plain": [
       "(7, 31, 4)"
      ]
     },
     "execution_count": 66,
     "metadata": {},
     "output_type": "execute_result"
    }
   ],
   "source": [
    "a.shape"
   ]
  },
  {
   "cell_type": "code",
   "execution_count": 164,
   "metadata": {},
   "outputs": [
    {
     "data": {
      "text/plain": [
       "Array([[  0,   0,   0,   0,   0,   0,   0],\n",
       "       [  0,   0,   0,   0, 255, 255, 255],\n",
       "       [  0, 255, 255, 255, 255, 255,   0],\n",
       "       [255, 255, 255, 255, 255, 255, 255],\n",
       "       [255,   0,   0, 255, 255, 255, 255],\n",
       "       [255,   0, 255, 255,   0, 255,   0],\n",
       "       [255, 255, 255, 255,   0, 255,   0],\n",
       "       [255,   0,   0, 255, 255, 255, 255],\n",
       "       [255,   0, 255, 255, 255, 255, 255],\n",
       "       [  0, 255, 255, 255, 255, 255,   0],\n",
       "       [  0,   0,   0,   0,   0, 255, 255],\n",
       "       [  0,   0,   0,   0,   0,   0,   0],\n",
       "       [  0,   0,   0,   0,   0, 255, 255],\n",
       "       [  0,   0, 255, 255, 255, 255,   0],\n",
       "       [  0, 255, 255,   0, 255, 255, 255],\n",
       "       [  0, 255, 255, 255, 255,   0, 255],\n",
       "       [  0, 255, 255,   0, 255, 255, 255],\n",
       "       [  0,   0, 255, 255, 255, 255,   0],\n",
       "       [  0,   0,   0,   0,   0, 255, 255],\n",
       "       [  0,   0,   0,   0,   0,   0,   0],\n",
       "       [  0,   0,   0,   0,   0, 255, 255],\n",
       "       [  0, 255, 255, 255, 255, 255,   0],\n",
       "       [255,   0, 255, 255,   0, 255, 255],\n",
       "       [255,   0,   0, 255,   0, 255, 255],\n",
       "       [255, 255, 255, 255,   0, 255,   0],\n",
       "       [255,   0, 255, 255,   0, 255,   0],\n",
       "       [255,   0,   0, 255, 255, 255, 255],\n",
       "       [255, 255, 255, 255, 255, 255, 255],\n",
       "       [  0, 255, 255, 255, 255, 255,   0],\n",
       "       [  0,   0,   0,   0,   0, 255, 255],\n",
       "       [  0,   0,   0,   0,   0,   0,   0]], dtype=uint8)"
      ]
     },
     "execution_count": 164,
     "metadata": {},
     "output_type": "execute_result"
    }
   ],
   "source": [
    "x = a[:,:,3].T\n",
    "x"
   ]
  },
  {
   "cell_type": "code",
   "execution_count": 135,
   "metadata": {},
   "outputs": [
    {
     "data": {
      "text/plain": [
       "Array([  0,   0,   0,   0,   0,   0,   0,   0,   0,   0,   0, 255, 255,\n",
       "       255,   0, 255, 255, 255, 255, 255,   0, 255, 255, 255, 255, 255,\n",
       "       255, 255, 255,   0,   0, 255, 255, 255, 255, 255,   0, 255, 255,\n",
       "         0, 255,   0, 255, 255, 255, 255,   0, 255,   0, 255,   0,   0,\n",
       "       255, 255, 255, 255, 255,   0, 255, 255, 255, 255, 255,   0, 255,\n",
       "       255, 255, 255, 255,   0,   0,   0,   0,   0,   0, 255, 255,   0,\n",
       "         0,   0,   0,   0,   0,   0,   0,   0,   0,   0,   0, 255, 255,\n",
       "         0,   0, 255, 255, 255, 255,   0,   0, 255, 255,   0, 255, 255,\n",
       "       255,   0, 255, 255, 255, 255,   0, 255,   0, 255, 255,   0, 255,\n",
       "       255, 255,   0,   0, 255, 255, 255, 255,   0,   0,   0,   0,   0,\n",
       "         0, 255, 255,   0,   0,   0,   0,   0,   0,   0,   0,   0,   0,\n",
       "         0,   0, 255, 255,   0, 255, 255, 255, 255, 255,   0, 255,   0,\n",
       "       255, 255,   0, 255, 255, 255,   0,   0, 255,   0, 255, 255, 255,\n",
       "       255, 255, 255,   0, 255,   0, 255,   0, 255, 255,   0, 255,   0,\n",
       "       255,   0,   0, 255, 255, 255, 255, 255, 255, 255, 255, 255, 255,\n",
       "       255,   0, 255, 255, 255, 255, 255,   0,   0,   0,   0,   0,   0,\n",
       "       255, 255,   0,   0,   0,   0,   0,   0,   0], dtype=uint8)"
      ]
     },
     "execution_count": 135,
     "metadata": {},
     "output_type": "execute_result"
    }
   ],
   "source": [
    "x = x.reshape(217)\n",
    "x"
   ]
  },
  {
   "cell_type": "markdown",
   "metadata": {},
   "source": [
    "### Timestamp"
   ]
  },
  {
   "cell_type": "code",
   "execution_count": 141,
   "metadata": {},
   "outputs": [],
   "source": [
    "import requests\n",
    "import datetime\n",
    "import win32api\n",
    "\n",
    "epoch_time = 1554940802\n",
    "utcTime = datetime.datetime.utcfromtimestamp(epoch_time)"
   ]
  },
  {
   "cell_type": "code",
   "execution_count": 150,
   "metadata": {},
   "outputs": [
    {
     "data": {
      "text/plain": [
       "datetime.datetime(2019, 4, 13, 0, 0)"
      ]
     },
     "execution_count": 150,
     "metadata": {},
     "output_type": "execute_result"
    }
   ],
   "source": [
    "utcTime"
   ]
  },
  {
   "cell_type": "code",
   "execution_count": 143,
   "metadata": {},
   "outputs": [
    {
     "data": {
      "text/plain": [
       "'2019-04-11 00:00:02'"
      ]
     },
     "execution_count": 143,
     "metadata": {},
     "output_type": "execute_result"
    }
   ],
   "source": [
    "str(utcTime)"
   ]
  },
  {
   "cell_type": "code",
   "execution_count": 145,
   "metadata": {},
   "outputs": [
    {
     "data": {
      "text/plain": [
       "Timestamp('2019-01-13 00:00:00')"
      ]
     },
     "execution_count": 145,
     "metadata": {},
     "output_type": "execute_result"
    }
   ],
   "source": [
    "testtime = pd.to_datetime('2019-01-13')\n",
    "testtime"
   ]
  },
  {
   "cell_type": "code",
   "execution_count": 146,
   "metadata": {},
   "outputs": [
    {
     "data": {
      "text/plain": [
       "'2019-01-13 00:00:00'"
      ]
     },
     "execution_count": 146,
     "metadata": {},
     "output_type": "execute_result"
    }
   ],
   "source": [
    "str(testtime)"
   ]
  },
  {
   "cell_type": "code",
   "execution_count": 152,
   "metadata": {},
   "outputs": [
    {
     "data": {
      "text/plain": [
       "datetime.datetime(2019, 4, 14, 0, 0)"
      ]
     },
     "execution_count": 152,
     "metadata": {},
     "output_type": "execute_result"
    }
   ],
   "source": [
    "utcTime = datetime.datetime(2019,4,13) + datetime.timedelta(days=1)\n",
    "utcTime"
   ]
  },
  {
   "cell_type": "markdown",
   "metadata": {},
   "source": [
    "# Programme"
   ]
  },
  {
   "cell_type": "code",
   "execution_count": 36,
   "metadata": {},
   "outputs": [],
   "source": [
    "import requests\n",
    "import datetime\n",
    "import win32api\n",
    "from imageio import imread\n",
    "from PIL import Image\n",
    "import numpy as np\n",
    "import os\n",
    "import pyjokes"
   ]
  },
  {
   "cell_type": "code",
   "execution_count": 28,
   "metadata": {},
   "outputs": [],
   "source": [
    "def change_systemtime(time):\n",
    "    utcTime = time\n",
    "    try:\n",
    "        # SetSystemTime takes time as argument in UTC time\n",
    "        win32api.SetSystemTime(utcTime.year, utcTime.month, utcTime.weekday(), utcTime.day, utcTime.hour, utcTime.minute, utcTime.second, 0)\n",
    "        localTime = time\n",
    "#         print(\"Time updated to: \" + localTime.strftime(\"%Y-%m-%d %H:%M\"))\n",
    "    except:\n",
    "        print(\"Could not update time\")"
   ]
  },
  {
   "cell_type": "code",
   "execution_count": 29,
   "metadata": {},
   "outputs": [],
   "source": [
    "def make_contribution(con=11):\n",
    "    for i in range(con):\n",
    "        joke = pyjokes.get_joke()\n",
    "        with open('joke.txt', 'w') as file:\n",
    "            file.write(joke + '\\n')\n",
    "#         os.system('git status')\n",
    "        os.system('git add .')\n",
    "        os.system(f\"git commit -m 'joke'\")\n",
    "    os.system(f\"git push\")"
   ]
  },
  {
   "cell_type": "code",
   "execution_count": 30,
   "metadata": {},
   "outputs": [
    {
     "name": "stdout",
     "output_type": "stream",
     "text": [
      "Start date is: 2019-02-17 12:00:00.\n",
      "Pixelart in GitHub contribution activity will last until 2019-09-21 12:00:00.\n"
     ]
    }
   ],
   "source": [
    "# Enter date to start. Should be a sunday.\n",
    "start = datetime.datetime(2019,2,17,12)\n",
    "print(f'Start date is: {start}.')\n",
    "\n",
    "#Load and prepare image. Should be a 7 x n matrix.\n",
    "pic = imread('pixil-frame-1.png')\n",
    "assert pic.shape[0] == 7, 'Image has not the right format. Image must have a height of 7 pixels.'\n",
    "num_of_pix = pic.shape[0] * pic.shape[1]\n",
    "pic = pic[:,:,3].T.reshape(num_of_pix)\n",
    "end = start + datetime.timedelta(days=num_of_pix - 1)\n",
    "print(f'Pixelart in GitHub contribution activity will last until {end}.')"
   ]
  },
  {
   "cell_type": "code",
   "execution_count": 31,
   "metadata": {},
   "outputs": [],
   "source": [
    "change_systemtime(start)"
   ]
  },
  {
   "cell_type": "code",
   "execution_count": 32,
   "metadata": {},
   "outputs": [
    {
     "data": {
      "text/plain": [
       "0"
      ]
     },
     "execution_count": 32,
     "metadata": {},
     "output_type": "execute_result"
    }
   ],
   "source": [
    "os.system('git init')\n",
    "os.system('git add .')\n",
    "os.system('git commit -m \"First commit\"')\n",
    "os.system('git remote add origin https://github.com/DannyIbo/little-ghosts.git')\n",
    "os.system('git push origin master')\n",
    "os.system('git push --set-upstream origin master')"
   ]
  },
  {
   "cell_type": "code",
   "execution_count": 33,
   "metadata": {},
   "outputs": [],
   "source": [
    "# make_contribution(con=1)"
   ]
  },
  {
   "cell_type": "code",
   "execution_count": 34,
   "metadata": {},
   "outputs": [
    {
     "name": "stdout",
     "output_type": "stream",
     "text": [
      "2019-02-17 12:00:00 making NO COMMIT.\n",
      "2019-02-18 12:00:00 making NO COMMIT.\n",
      "2019-02-19 12:00:00 making NO COMMIT.\n",
      "2019-02-20 12:00:00 making NO COMMIT.\n",
      "2019-02-21 12:00:00 making NO COMMIT.\n",
      "2019-02-22 12:00:00 making NO COMMIT.\n",
      "2019-02-23 12:00:00 making NO COMMIT.\n",
      "2019-02-24 12:00:00 making NO COMMIT.\n",
      "2019-02-25 12:00:00 making NO COMMIT.\n",
      "2019-02-26 12:00:00 making NO COMMIT.\n",
      "2019-02-27 12:00:00 making NO COMMIT.\n",
      "Setting system time to 2019-02-28 12:00:00 making A COMMIT.\n",
      "Setting system time to 2019-03-01 12:00:00 making A COMMIT.\n",
      "Setting system time to 2019-03-02 12:00:00 making A COMMIT.\n",
      "2019-03-03 12:00:00 making NO COMMIT.\n",
      "Setting system time to 2019-03-04 12:00:00 making A COMMIT.\n",
      "Setting system time to 2019-03-05 12:00:00 making A COMMIT.\n",
      "Setting system time to 2019-03-06 12:00:00 making A COMMIT.\n",
      "Setting system time to 2019-03-07 12:00:00 making A COMMIT.\n",
      "Setting system time to 2019-03-08 12:00:00 making A COMMIT.\n",
      "2019-03-09 12:00:00 making NO COMMIT.\n",
      "Setting system time to 2019-03-10 12:00:00 making A COMMIT.\n"
     ]
    },
    {
     "ename": "KeyboardInterrupt",
     "evalue": "",
     "output_type": "error",
     "traceback": [
      "\u001b[1;31m---------------------------------------------------------------------------\u001b[0m",
      "\u001b[1;31mKeyboardInterrupt\u001b[0m                         Traceback (most recent call last)",
      "\u001b[1;32m<ipython-input-34-8401b10bd6ab>\u001b[0m in \u001b[0;36m<module>\u001b[1;34m\u001b[0m\n\u001b[0;32m      5\u001b[0m         \u001b[0mprint\u001b[0m\u001b[1;33m(\u001b[0m\u001b[1;34mf'Setting system time to {today} making A COMMIT.'\u001b[0m\u001b[1;33m)\u001b[0m\u001b[1;33m\u001b[0m\u001b[1;33m\u001b[0m\u001b[0m\n\u001b[0;32m      6\u001b[0m         \u001b[0mchange_systemtime\u001b[0m\u001b[1;33m(\u001b[0m\u001b[0mtoday\u001b[0m\u001b[1;33m)\u001b[0m\u001b[1;33m\u001b[0m\u001b[1;33m\u001b[0m\u001b[0m\n\u001b[1;32m----> 7\u001b[1;33m         \u001b[0mmake_contribution\u001b[0m\u001b[1;33m(\u001b[0m\u001b[1;33m)\u001b[0m\u001b[1;33m\u001b[0m\u001b[1;33m\u001b[0m\u001b[0m\n\u001b[0m\u001b[0;32m      8\u001b[0m     \u001b[1;32melse\u001b[0m\u001b[1;33m:\u001b[0m\u001b[1;33m\u001b[0m\u001b[1;33m\u001b[0m\u001b[0m\n\u001b[0;32m      9\u001b[0m         \u001b[0mprint\u001b[0m\u001b[1;33m(\u001b[0m\u001b[1;34mf'{today} making NO COMMIT.'\u001b[0m\u001b[1;33m)\u001b[0m\u001b[1;33m\u001b[0m\u001b[1;33m\u001b[0m\u001b[0m\n",
      "\u001b[1;32m<ipython-input-29-e4f778e2e08c>\u001b[0m in \u001b[0;36mmake_contribution\u001b[1;34m(con)\u001b[0m\n\u001b[0;32m      6\u001b[0m \u001b[1;31m#         os.system('git status')\u001b[0m\u001b[1;33m\u001b[0m\u001b[1;33m\u001b[0m\u001b[1;33m\u001b[0m\u001b[0m\n\u001b[0;32m      7\u001b[0m         \u001b[0mos\u001b[0m\u001b[1;33m.\u001b[0m\u001b[0msystem\u001b[0m\u001b[1;33m(\u001b[0m\u001b[1;34m'git add .'\u001b[0m\u001b[1;33m)\u001b[0m\u001b[1;33m\u001b[0m\u001b[1;33m\u001b[0m\u001b[0m\n\u001b[1;32m----> 8\u001b[1;33m         \u001b[0mos\u001b[0m\u001b[1;33m.\u001b[0m\u001b[0msystem\u001b[0m\u001b[1;33m(\u001b[0m\u001b[1;34mf\"git commit -m 'joke'\"\u001b[0m\u001b[1;33m)\u001b[0m\u001b[1;33m\u001b[0m\u001b[1;33m\u001b[0m\u001b[0m\n\u001b[0m\u001b[0;32m      9\u001b[0m     \u001b[0mos\u001b[0m\u001b[1;33m.\u001b[0m\u001b[0msystem\u001b[0m\u001b[1;33m(\u001b[0m\u001b[1;34mf\"git push\"\u001b[0m\u001b[1;33m)\u001b[0m\u001b[1;33m\u001b[0m\u001b[1;33m\u001b[0m\u001b[0m\n",
      "\u001b[1;31mKeyboardInterrupt\u001b[0m: "
     ]
    }
   ],
   "source": [
    "step = 0\n",
    "for d in pic:\n",
    "    today = start + datetime.timedelta(days=step)\n",
    "    if d:\n",
    "        print(f'Setting system time to {today} making A COMMIT.')\n",
    "        change_systemtime(today)\n",
    "        make_contribution()\n",
    "    else:\n",
    "        print(f'{today} making NO COMMIT.')\n",
    "        pass\n",
    "    step += 1"
   ]
  },
  {
   "cell_type": "code",
   "execution_count": null,
   "metadata": {},
   "outputs": [],
   "source": [
    "# os.system('git remote add origin https://github.com/DannyIbo/test.git')"
   ]
  },
  {
   "cell_type": "code",
   "execution_count": null,
   "metadata": {},
   "outputs": [],
   "source": [
    "# os.system('git push -u origin master')"
   ]
  }
 ],
 "metadata": {
  "kernelspec": {
   "display_name": "Python 3",
   "language": "python",
   "name": "python3"
  },
  "language_info": {
   "codemirror_mode": {
    "name": "ipython",
    "version": 3
   },
   "file_extension": ".py",
   "mimetype": "text/x-python",
   "name": "python",
   "nbconvert_exporter": "python",
   "pygments_lexer": "ipython3",
   "version": "3.7.4"
  }
 },
 "nbformat": 4,
 "nbformat_minor": 4
}
