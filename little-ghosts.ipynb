{
 "cells": [
  {
   "cell_type": "markdown",
   "metadata": {},
   "source": [
    "# Programme"
   ]
  },
  {
   "cell_type": "code",
   "execution_count": 3,
   "metadata": {},
   "outputs": [],
   "source": [
    "import requests\n",
    "import datetime\n",
    "import win32api\n",
    "from imageio import imread\n",
    "from PIL import Image\n",
    "import numpy as np\n",
    "import os\n",
    "import pyjokes\n",
    "from time import sleep"
   ]
  },
  {
   "cell_type": "code",
   "execution_count": 4,
   "metadata": {},
   "outputs": [],
   "source": [
    "def change_systemtime(time):\n",
    "    utcTime = time\n",
    "    try:\n",
    "        # SetSystemTime takes time as argument in UTC time\n",
    "        win32api.SetSystemTime(utcTime.year, utcTime.month, utcTime.weekday(), utcTime.day, utcTime.hour, utcTime.minute, utcTime.second, 0)\n",
    "        localTime = time\n",
    "#         print(\"Time updated to: \" + localTime.strftime(\"%Y-%m-%d %H:%M\"))\n",
    "    except:\n",
    "        print(\"Could not update time\")"
   ]
  },
  {
   "cell_type": "code",
   "execution_count": 5,
   "metadata": {},
   "outputs": [],
   "source": [
    "def make_contribution(con=1):\n",
    "    for i in range(con):\n",
    "        joke = pyjokes.get_joke()\n",
    "        with open('joke.txt', 'w') as file:\n",
    "            file.write(joke + '\\n')\n",
    "        sleep(0.2)\n",
    "#         os.system('git status')\n",
    "        os.system('git add .')\n",
    "        os.system(f\"git commit -m 'joke'\")\n",
    "        sleep(0.2)\n",
    "    os.system(f\"git push origin master\")"
   ]
  },
  {
   "cell_type": "code",
   "execution_count": 6,
   "metadata": {},
   "outputs": [
    {
     "name": "stdout",
     "output_type": "stream",
     "text": [
      "Start date is: 2019-02-17 12:00:00.\n",
      "Pixelart in GitHub contribution activity will last until 2019-09-21 12:00:00.\n"
     ]
    }
   ],
   "source": [
    "# Enter date to start. Should be a sunday.\n",
    "start = datetime.datetime(2019,2,17,12)\n",
    "print(f'Start date is: {start}.')\n",
    "\n",
    "#Load and prepare image. Should be a 7 x n matrix.\n",
    "pic = imread('pixil-frame-1.png')\n",
    "assert pic.shape[0] == 7, 'Image has not the right format. Image must have a height of 7 pixels.'\n",
    "num_of_pix = pic.shape[0] * pic.shape[1]\n",
    "pic = pic[:,:,3].T.reshape(num_of_pix)\n",
    "end = start + datetime.timedelta(days=num_of_pix - 1)\n",
    "print(f'Pixelart in GitHub contribution activity will last until {end}.')"
   ]
  },
  {
   "cell_type": "code",
   "execution_count": 7,
   "metadata": {},
   "outputs": [],
   "source": [
    "change_systemtime(start)"
   ]
  },
  {
   "cell_type": "code",
   "execution_count": 8,
   "metadata": {},
   "outputs": [
    {
     "data": {
      "text/plain": [
       "0"
      ]
     },
     "execution_count": 8,
     "metadata": {},
     "output_type": "execute_result"
    }
   ],
   "source": [
    "os.system('git init')\n",
    "os.system('git remote add origin https://github.com/DannyIbo/little-ghosts.git')"
   ]
  },
  {
   "cell_type": "code",
   "execution_count": null,
   "metadata": {},
   "outputs": [
    {
     "name": "stdout",
     "output_type": "stream",
     "text": [
      "2019-02-17 12:00:00 making NO COMMIT.\n",
      "2019-02-18 12:00:00 making NO COMMIT.\n",
      "2019-02-19 12:00:00 making NO COMMIT.\n",
      "2019-02-20 12:00:00 making NO COMMIT.\n",
      "2019-02-21 12:00:00 making NO COMMIT.\n",
      "2019-02-22 12:00:00 making NO COMMIT.\n",
      "2019-02-23 12:00:00 making NO COMMIT.\n",
      "2019-02-24 12:00:00 making NO COMMIT.\n",
      "2019-02-25 12:00:00 making NO COMMIT.\n",
      "2019-02-26 12:00:00 making NO COMMIT.\n",
      "2019-02-27 12:00:00 making NO COMMIT.\n",
      "Setting system time to 2019-02-28 12:00:00 making A COMMIT.\n",
      "Setting system time to 2019-03-01 12:00:00 making A COMMIT.\n",
      "Setting system time to 2019-03-02 12:00:00 making A COMMIT.\n",
      "2019-03-03 12:00:00 making NO COMMIT.\n",
      "Setting system time to 2019-03-04 12:00:00 making A COMMIT.\n",
      "Setting system time to 2019-03-05 12:00:00 making A COMMIT.\n",
      "Setting system time to 2019-03-06 12:00:00 making A COMMIT.\n",
      "Setting system time to 2019-03-07 12:00:00 making A COMMIT.\n",
      "Setting system time to 2019-03-08 12:00:00 making A COMMIT.\n",
      "2019-03-09 12:00:00 making NO COMMIT.\n",
      "Setting system time to 2019-03-10 12:00:00 making A COMMIT.\n",
      "Setting system time to 2019-03-11 12:00:00 making A COMMIT.\n",
      "Setting system time to 2019-03-12 12:00:00 making A COMMIT.\n",
      "Setting system time to 2019-03-13 12:00:00 making A COMMIT.\n",
      "Setting system time to 2019-03-14 12:00:00 making A COMMIT.\n",
      "Setting system time to 2019-03-15 12:00:00 making A COMMIT.\n",
      "Setting system time to 2019-03-16 12:00:00 making A COMMIT.\n",
      "Setting system time to 2019-03-17 12:00:00 making A COMMIT.\n",
      "2019-03-18 12:00:00 making NO COMMIT.\n",
      "2019-03-19 12:00:00 making NO COMMIT.\n",
      "Setting system time to 2019-03-20 12:00:00 making A COMMIT.\n",
      "Setting system time to 2019-03-21 12:00:00 making A COMMIT.\n",
      "Setting system time to 2019-03-22 12:00:00 making A COMMIT.\n",
      "Setting system time to 2019-03-23 12:00:00 making A COMMIT.\n",
      "Setting system time to 2019-03-24 12:00:00 making A COMMIT.\n",
      "2019-03-25 12:00:00 making NO COMMIT.\n",
      "Setting system time to 2019-03-26 12:00:00 making A COMMIT.\n",
      "Setting system time to 2019-03-27 12:00:00 making A COMMIT.\n",
      "2019-03-28 12:00:00 making NO COMMIT.\n",
      "Setting system time to 2019-03-29 12:00:00 making A COMMIT.\n",
      "2019-03-30 12:00:00 making NO COMMIT.\n",
      "Setting system time to 2019-03-31 12:00:00 making A COMMIT.\n",
      "Setting system time to 2019-04-01 12:00:00 making A COMMIT.\n",
      "Setting system time to 2019-04-02 12:00:00 making A COMMIT.\n",
      "Setting system time to 2019-04-03 12:00:00 making A COMMIT.\n",
      "2019-04-04 12:00:00 making NO COMMIT.\n",
      "Setting system time to 2019-04-05 12:00:00 making A COMMIT.\n",
      "2019-04-06 12:00:00 making NO COMMIT.\n",
      "Setting system time to 2019-04-07 12:00:00 making A COMMIT.\n",
      "2019-04-08 12:00:00 making NO COMMIT.\n",
      "2019-04-09 12:00:00 making NO COMMIT.\n",
      "Setting system time to 2019-04-10 12:00:00 making A COMMIT.\n",
      "Setting system time to 2019-04-11 12:00:00 making A COMMIT.\n",
      "Setting system time to 2019-04-12 12:00:00 making A COMMIT.\n",
      "Setting system time to 2019-04-13 12:00:00 making A COMMIT.\n",
      "Setting system time to 2019-04-14 12:00:00 making A COMMIT.\n",
      "2019-04-15 12:00:00 making NO COMMIT.\n",
      "Setting system time to 2019-04-16 12:00:00 making A COMMIT.\n",
      "Setting system time to 2019-04-17 12:00:00 making A COMMIT.\n",
      "Setting system time to 2019-04-18 12:00:00 making A COMMIT.\n",
      "Setting system time to 2019-04-19 12:00:00 making A COMMIT.\n",
      "Setting system time to 2019-04-20 12:00:00 making A COMMIT.\n",
      "2019-04-21 12:00:00 making NO COMMIT.\n",
      "Setting system time to 2019-04-22 12:00:00 making A COMMIT.\n",
      "Setting system time to 2019-04-23 12:00:00 making A COMMIT.\n",
      "Setting system time to 2019-04-24 12:00:00 making A COMMIT.\n",
      "Setting system time to 2019-04-25 12:00:00 making A COMMIT.\n",
      "Setting system time to 2019-04-26 12:00:00 making A COMMIT.\n",
      "2019-04-27 12:00:00 making NO COMMIT.\n",
      "2019-04-28 12:00:00 making NO COMMIT.\n",
      "2019-04-29 12:00:00 making NO COMMIT.\n",
      "2019-04-30 12:00:00 making NO COMMIT.\n",
      "2019-05-01 12:00:00 making NO COMMIT.\n",
      "2019-05-02 12:00:00 making NO COMMIT.\n",
      "Setting system time to 2019-05-03 12:00:00 making A COMMIT.\n",
      "Setting system time to 2019-05-04 12:00:00 making A COMMIT.\n",
      "2019-05-05 12:00:00 making NO COMMIT.\n",
      "2019-05-06 12:00:00 making NO COMMIT.\n",
      "2019-05-07 12:00:00 making NO COMMIT.\n",
      "2019-05-08 12:00:00 making NO COMMIT.\n",
      "2019-05-09 12:00:00 making NO COMMIT.\n",
      "2019-05-10 12:00:00 making NO COMMIT.\n",
      "2019-05-11 12:00:00 making NO COMMIT.\n",
      "2019-05-12 12:00:00 making NO COMMIT.\n",
      "2019-05-13 12:00:00 making NO COMMIT.\n",
      "2019-05-14 12:00:00 making NO COMMIT.\n",
      "2019-05-15 12:00:00 making NO COMMIT.\n",
      "2019-05-16 12:00:00 making NO COMMIT.\n",
      "Setting system time to 2019-05-17 12:00:00 making A COMMIT.\n",
      "Setting system time to 2019-05-18 12:00:00 making A COMMIT.\n",
      "2019-05-19 12:00:00 making NO COMMIT.\n",
      "2019-05-20 12:00:00 making NO COMMIT.\n",
      "Setting system time to 2019-05-21 12:00:00 making A COMMIT.\n",
      "Setting system time to 2019-05-22 12:00:00 making A COMMIT.\n",
      "Setting system time to 2019-05-23 12:00:00 making A COMMIT.\n",
      "Setting system time to 2019-05-24 12:00:00 making A COMMIT.\n",
      "2019-05-25 12:00:00 making NO COMMIT.\n",
      "2019-05-26 12:00:00 making NO COMMIT.\n",
      "Setting system time to 2019-05-27 12:00:00 making A COMMIT.\n",
      "Setting system time to 2019-05-28 12:00:00 making A COMMIT.\n",
      "2019-05-29 12:00:00 making NO COMMIT.\n",
      "Setting system time to 2019-05-30 12:00:00 making A COMMIT.\n"
     ]
    }
   ],
   "source": [
    "step = 0\n",
    "for d in pic:\n",
    "    today = start + datetime.timedelta(days=step)\n",
    "    if d:\n",
    "        change_systemtime(today)\n",
    "        make_contribution()\n",
    "        print(f'Set system time to {today} made A COMMIT.')\n",
    "    else:\n",
    "        print(f'{today} made NO COMMIT.')\n",
    "        pass\n",
    "    step += 1"
   ]
  },
  {
   "cell_type": "code",
   "execution_count": null,
   "metadata": {},
   "outputs": [],
   "source": []
  }
 ],
 "metadata": {
  "kernelspec": {
   "display_name": "Python 3",
   "language": "python",
   "name": "python3"
  },
  "language_info": {
   "codemirror_mode": {
    "name": "ipython",
    "version": 3
   },
   "file_extension": ".py",
   "mimetype": "text/x-python",
   "name": "python",
   "nbconvert_exporter": "python",
   "pygments_lexer": "ipython3",
   "version": "3.7.4"
  }
 },
 "nbformat": 4,
 "nbformat_minor": 4
}
